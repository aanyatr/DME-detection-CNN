{
  "nbformat": 4,
  "nbformat_minor": 0,
  "metadata": {
    "colab": {
      "provenance": [],
      "gpuType": "T4",
      "include_colab_link": true
    },
    "kernelspec": {
      "name": "python3",
      "display_name": "Python 3"
    },
    "language_info": {
      "name": "python"
    },
    "accelerator": "GPU"
  },
  "cells": [
    {
      "cell_type": "markdown",
      "metadata": {
        "id": "view-in-github",
        "colab_type": "text"
      },
      "source": [
        "<a href=\"https://colab.research.google.com/github/aanyatr/DME-detection-CNN/blob/main/DME_dataset.ipynb\" target=\"_parent\"><img src=\"https://colab.research.google.com/assets/colab-badge.svg\" alt=\"Open In Colab\"/></a>"
      ]
    },
    {
      "cell_type": "code",
      "execution_count": null,
      "metadata": {
        "id": "JL1uF314GlxV"
      },
      "outputs": [],
      "source": [
        "import cv2\n",
        "import pandas as pd\n",
        "import matplotlib.pyplot as plt\n",
        "import numpy as np\n",
        "import os\n",
        "import tensorflow as tf\n",
        "from tensorflow.keras.models import Model\n",
        "from sklearn.model_selection import train_test_split\n",
        "from tensorflow.keras.applications import Xception\n",
        "from tensorflow.keras.preprocessing.image import ImageDataGenerator\n",
        "from sklearn.metrics import confusion_matrix, classification_report\n",
        "from sklearn.metrics import confusion_matrix\n",
        "import keras\n",
        "from keras import backend as K\n",
        "from sklearn.model_selection import StratifiedShuffleSplit\n",
        "from tensorflow.keras.models import Sequential\n",
        "from tensorflow.keras.layers import Conv2D, MaxPooling2D, DepthwiseConv2D, Flatten, Dense, BatchNormalization,Dropout,GlobalAveragePooling2D\n",
        "from tensorflow.keras.activations import relu, softmax,elu\n",
        "from tensorflow.keras.optimizers import Adam\n",
        "from tensorflow.keras.callbacks import EarlyStopping,ReduceLROnPlateau\n",
        "from sklearn.model_selection import train_test_split\n",
        "from sklearn.metrics import accuracy_score\n",
        "import zipfile\n",
        "from sklearn.metrics import precision_score, recall_score\n",
        "import matplotlib.pyplot as plt\n",
        "from keras.utils import to_categorical # used for categorical hot coding"
      ]
    },
    {
      "cell_type": "code",
      "source": [
        "# Mount Google Drive\n",
        "from google.colab import drive\n",
        "drive.mount('/content/drive',force_remount=True)"
      ],
      "metadata": {
        "colab": {
          "base_uri": "https://localhost:8080/"
        },
        "id": "RBshERH6HK5K",
        "outputId": "1c298382-e325-4f44-bb65-447ca2550fca"
      },
      "execution_count": null,
      "outputs": [
        {
          "output_type": "stream",
          "name": "stdout",
          "text": [
            "Mounted at /content/drive\n"
          ]
        }
      ]
    },
    {
      "cell_type": "code",
      "source": [
        "np.random.seed(60)\n",
        "tf.random.set_seed(60)"
      ],
      "metadata": {
        "id": "Y03gzj9AHkjT"
      },
      "execution_count": null,
      "outputs": []
    },
    {
      "cell_type": "code",
      "source": [
        "#@title Data Path\n",
        "\n",
        "AN_csv11 = '/content/drive/MyDrive/MESSIDOR/Base11/Annotation_Base11.xls'\n",
        "an_11= pd.read_excel(AN_csv11, usecols=['Image name', 'Risk of macular edema '])\n",
        "\n",
        "AN_csv12 = '/content/drive/MyDrive/MESSIDOR/Base12/Annotation Base12.xls'\n",
        "an_12= pd.read_excel(AN_csv12, usecols=['Image name', 'Risk of macular edema '])\n",
        "\n",
        "AN_csv13 = '/content/drive/MyDrive/MESSIDOR/Base13/Annotation_Base13.xls'\n",
        "an_13= pd.read_excel(AN_csv13, usecols=['Image name', 'Risk of macular edema '])\n",
        "\n",
        "AN_csv14 = '/content/drive/MyDrive/MESSIDOR/Base14/Annotation Base14.xls'\n",
        "an_14= pd.read_excel(AN_csv14, usecols=['Image name', 'Risk of macular edema '])\n",
        "\n",
        "AN_csv21 = '/content/drive/MyDrive/MESSIDOR/Base21/Annotation Base21.xls'\n",
        "an_21= pd.read_excel(AN_csv21, usecols=['Image name', 'Risk of macular edema '])\n",
        "\n",
        "AN_csv22 = '/content/drive/MyDrive/MESSIDOR/Base22/Annotation Base22.xls'\n",
        "an_22= pd.read_excel(AN_csv22, usecols=['Image name', 'Risk of macular edema '])\n",
        "\n",
        "AN_csv23 = '/content/drive/MyDrive/MESSIDOR/Base23/Annotation Base23.xls'\n",
        "an_23= pd.read_excel(AN_csv23, usecols=['Image name', 'Risk of macular edema '])\n",
        "\n",
        "AN_csv24 = '/content/drive/MyDrive/MESSIDOR/Base24/Annotation Base24.xls'\n",
        "an_24= pd.read_excel(AN_csv24, usecols=['Image name', 'Risk of macular edema '])\n",
        "\n",
        "AN_csv31 = '/content/drive/MyDrive/MESSIDOR/Base31/Annotation Base31.xls'\n",
        "an_31= pd.read_excel(AN_csv31, usecols=['Image name', 'Risk of macular edema '])\n",
        "\n",
        "AN_csv32 = '/content/drive/MyDrive/MESSIDOR/Base32/Annotation Base32.xls'\n",
        "an_32= pd.read_excel(AN_csv32, usecols=['Image name', 'Risk of macular edema '])\n",
        "\n",
        "AN_csv33 = '/content/drive/MyDrive/MESSIDOR/Base33/Annotation Base33.xls'\n",
        "an_33= pd.read_excel(AN_csv33, usecols=['Image name', 'Risk of macular edema '])\n",
        "\n",
        "AN_csv34 = '/content/drive/MyDrive/MESSIDOR/Base34/Annotation Base34.xlsx'\n",
        "an_34= pd.read_excel(AN_csv34, usecols=['Image name', 'Risk of macular edema '])\n",
        "\n",
        "\n",
        "data_path11 =\"/content/drive/MyDrive/MESSIDOR/Base11\"\n",
        "data_path12= \"/content/drive/MyDrive/MESSIDOR/Base12\"\n",
        "data_path13= \"/content/drive/MyDrive/MESSIDOR/Base13\"\n",
        "data_path14= \"/content/drive/MyDrive/MESSIDOR/Base14\"\n",
        "data_path21= \"/content/drive/MyDrive/MESSIDOR/Base21\"\n",
        "data_path22= \"/content/drive/MyDrive/MESSIDOR/Base22\"\n",
        "data_path23= \"/content/drive/MyDrive/MESSIDOR/Base23\"\n",
        "data_path24= \"/content/drive/MyDrive/MESSIDOR/Base24\"\n",
        "data_path31= \"/content/drive/MyDrive/MESSIDOR/Base31\"\n",
        "data_path32= \"/content/drive/MyDrive/MESSIDOR/Base32\"\n",
        "data_path33= \"/content/drive/MyDrive/MESSIDOR/Base33\"\n",
        "data_path34= \"/content/drive/MyDrive/MESSIDOR/Base34\"\n",
        "\n",
        "train_csv_path ='/content/drive/MyDrive/R&D dataset/data set/B. Disease Grading/2. Groundtruths/a. IDRiD_Disease Grading_Training Labels.csv'\n",
        "test_csv_path ='/content/drive/MyDrive/R&D dataset/data set/B. Disease Grading/2. Groundtruths/b. IDRiD_Disease Grading_Testing Labels.csv'\n",
        "\n",
        "# Read train and test CSV files with specific columns\n",
        "train_df = pd.read_csv(train_csv_path, usecols=['Image name', 'Risk of macular edema '])\n",
        "test_df = pd.read_csv(test_csv_path, usecols=['Image name', 'Risk of macular edema '])\n",
        "\n",
        "# Convert 'Risk of macular edema' column to string type\n",
        "train_df['Risk of macular edema '] = train_df['Risk of macular edema '].astype(str)\n",
        "test_df['Risk of macular edema '] = test_df['Risk of macular edema '].astype(str)\n",
        "\n",
        "train_df['Image name'] = train_df['Image name'].astype(str)+ '.jpg'\n",
        "test_df['Image name'] = test_df['Image name'].astype(str)+ '.jpg'\n",
        "\n",
        "#Load image from the dataset\n",
        "train_data_dir= '/content/drive/MyDrive/R&D dataset/data set/B. Disease Grading/1. Original Images/a. Training Set'\n",
        "test_data_dir = '/content/drive/MyDrive/R&D dataset/data set/B. Disease Grading/1. Original Images/b. Testing Set'\n"
      ],
      "metadata": {
        "id": "lS3cACDqHo1b"
      },
      "execution_count": null,
      "outputs": []
    },
    {
      "cell_type": "code",
      "source": [
        "#@title Image Read Function\n",
        "\n",
        "#define function to read images and labels messidor dataset\n",
        "\n",
        "def read_images_and_labels(data_path, annotation_df):\n",
        "  data=[]\n",
        "\n",
        "  for index, row in annotation_df.iterrows():\n",
        "    image_name = row['Image name']\n",
        "    label = row['Risk of macular edema ']\n",
        "\n",
        "    image_path = os.path.join(data_path, image_name)\n",
        "    image = cv2.imread(image_path) #assuming in open cv compatible format\n",
        "    image = cv2.resize(image, (224,224))\n",
        "\n",
        "    data.append([image, label])\n",
        "  return data"
      ],
      "metadata": {
        "id": "PwTEwVtFar-7"
      },
      "execution_count": null,
      "outputs": []
    },
    {
      "cell_type": "code",
      "source": [
        "#@title calling read image functions\n",
        "\n",
        "#read images and labels for each dataset\n",
        "\n",
        "data1 = read_images_and_labels(data_path11, an_11)\n",
        "data2 = read_images_and_labels(data_path12, an_12)\n",
        "data3 = read_images_and_labels(data_path13, an_13)\n",
        "data4 = read_images_and_labels(data_path14, an_14)\n",
        "data5 = read_images_and_labels(data_path21, an_21)\n",
        "data6 = read_images_and_labels(data_path22, an_22)\n",
        "data7 = read_images_and_labels(data_path23, an_23)\n",
        "data8 = read_images_and_labels(data_path24, an_24)\n",
        "data9 = read_images_and_labels(data_path31, an_31)\n",
        "data10 = read_images_and_labels(data_path32, an_32)\n",
        "data11 = read_images_and_labels(data_path33, an_33)\n",
        "data12 = read_images_and_labels(data_path34, an_34)\n",
        "\n",
        "data= data1+ data2+ data3+ data4 + data5 + data6 + data7 +data8 + data9 + data10 + data11 + data12\n",
        "\n",
        "print(\"data reading done\")\n"
      ],
      "metadata": {
        "id": "KrgwJg5natMx",
        "colab": {
          "base_uri": "https://localhost:8080/"
        },
        "outputId": "1462de55-dd98-46bf-9004-8707766bd6c9"
      },
      "execution_count": null,
      "outputs": [
        {
          "output_type": "stream",
          "name": "stdout",
          "text": [
            "data reading done\n"
          ]
        }
      ]
    },
    {
      "cell_type": "code",
      "source": [
        "np.random.shuffle(data)"
      ],
      "metadata": {
        "id": "LrETAtV8tCuC"
      },
      "execution_count": null,
      "outputs": []
    },
    {
      "cell_type": "code",
      "source": [
        "X= []\n",
        "y=[]\n",
        "\n",
        "for features, label in data:\n",
        "  X.append(features)\n",
        "  y.append(label)\n",
        "\n",
        "X = np.array(X)\n",
        "y = np.array(y)\n",
        "# out = np.divide(X,255)\n",
        "\n",
        "# y= to_categorical(y, num_classes =3)\n",
        "\n",
        "# Stratified splitting for train-test split\n",
        "n_splits = 1\n",
        "test_size = 0.2\n",
        "stratified_split = StratifiedShuffleSplit(n_splits=n_splits, test_size=test_size, random_state=43)"
      ],
      "metadata": {
        "id": "uxsJUCy8wXlG"
      },
      "execution_count": null,
      "outputs": []
    },
    {
      "cell_type": "code",
      "source": [
        "for train_index, test_index in stratified_split.split(X, y):\n",
        "    X_train, X_test = X[train_index], X[test_index]\n",
        "    y_train, y_test = y[train_index], y[test_index]\n",
        "\n",
        "# Further split training data into training and validation sets\n",
        "for train_index, val_index in stratified_split.split(X_train, y_train):\n",
        "    X_train, X_val = X_train[train_index], X_train[val_index]\n",
        "    y_train, y_val = y_train[train_index], y_train[val_index]"
      ],
      "metadata": {
        "id": "1SAjh0Ga3l5q"
      },
      "execution_count": null,
      "outputs": []
    },
    {
      "cell_type": "code",
      "source": [
        "# Check classwise distribution in train, test, and validation sets\n",
        "unique_classes = np.unique(np.concatenate((y_train, y_test, y_val)))\n",
        "for class_label in unique_classes:\n",
        "    print(f\"Class {class_label}:\")\n",
        "    print(f\"Train: {np.sum(y_train == class_label)} images\")\n",
        "    print(f\"Test: {np.sum(y_test == class_label)} images\")\n",
        "    print(f\"Validation: {np.sum(y_val == class_label)} images\")\n",
        "    print('.........')"
      ],
      "metadata": {
        "id": "4M3TqXOw0Xg2",
        "colab": {
          "base_uri": "https://localhost:8080/"
        },
        "outputId": "520a1365-9bad-4382-829d-dcb6a9612f90"
      },
      "execution_count": null,
      "outputs": [
        {
          "output_type": "stream",
          "name": "stdout",
          "text": [
            "Class 0:\n",
            "Train: 623 images\n",
            "Test: 195 images\n",
            "Validation: 156 images\n",
            ".........\n",
            "Class 1:\n",
            "Train: 48 images\n",
            "Test: 15 images\n",
            "Validation: 12 images\n",
            ".........\n",
            "Class 2:\n",
            "Train: 97 images\n",
            "Test: 30 images\n",
            "Validation: 24 images\n",
            ".........\n"
          ]
        }
      ]
    },
    {
      "cell_type": "code",
      "source": [
        "from keras.utils import to_categorical\n",
        "train_labels = to_categorical(y_train, num_classes=3)\n",
        "val_labels = to_categorical(y_val, num_classes=3)\n",
        "test_labels_one_hot = to_categorical(y_test, num_classes=3)"
      ],
      "metadata": {
        "id": "zcQJS-nyxsqW"
      },
      "execution_count": null,
      "outputs": []
    },
    {
      "cell_type": "code",
      "source": [
        "# CREATING THE CNN MODEL:\n",
        "\n",
        "model = Sequential([\n",
        "    #LAYER1\n",
        "    Conv2D(24, (3, 3), strides=(1, 1), padding='same', activation='relu', input_shape=(224, 224, 3)),\n",
        "    MaxPooling2D((2, 2)),\n",
        "    #LAYER2\n",
        "    Conv2D(40, (3, 3), strides=(1, 1), padding='same', activation='relu'),\n",
        "    MaxPooling2D((2, 2)),\n",
        "    #LAYER3\n",
        "    Conv2D(56, (3, 3), strides=(1, 1), padding='same', activation='relu'),\n",
        "    BatchNormalization(),\n",
        "    MaxPooling2D((2, 2)),\n",
        "    #LAYER4\n",
        "    Conv2D(80, (3, 3), strides=(1, 1), padding='same', activation='relu'),\n",
        "    BatchNormalization(),\n",
        "    MaxPooling2D((2, 2)),\n",
        "    #LAYER5\n",
        "    Conv2D(96, (3, 3), strides=(1, 1), padding='same', activation='relu'),\n",
        "    BatchNormalization(),\n",
        "    #DEPTH WISE CONV LAYER\n",
        "    DepthwiseConv2D(kernel_size=(3, 3), padding='same', activation='relu'),\n",
        "    MaxPooling2D((2, 2)),\n",
        "    Conv2D(128, (3, 3), strides=(1, 1), padding='same', activation='relu'),\n",
        "    BatchNormalization(),\n",
        "    MaxPooling2D((2, 2)),\n",
        "    #DEPTH WISE CONV LAYER\n",
        "    DepthwiseConv2D(kernel_size=(3, 3), padding='same', activation='relu'),\n",
        "    #GAP USED\n",
        "    GlobalAveragePooling2D(),\n",
        "    Dense(128, activation='relu'),\n",
        "    Dense(3, activation='softmax')\n",
        "])"
      ],
      "metadata": {
        "id": "3YZefUD_sGiV"
      },
      "execution_count": null,
      "outputs": []
    },
    {
      "cell_type": "code",
      "source": [
        "model.summary()"
      ],
      "metadata": {
        "id": "xwToUv2TswmV",
        "colab": {
          "base_uri": "https://localhost:8080/"
        },
        "outputId": "4bbaf070-302c-4c09-af95-45f32ef70990"
      },
      "execution_count": null,
      "outputs": [
        {
          "output_type": "stream",
          "name": "stdout",
          "text": [
            "Model: \"sequential\"\n",
            "_________________________________________________________________\n",
            " Layer (type)                Output Shape              Param #   \n",
            "=================================================================\n",
            " conv2d (Conv2D)             (None, 224, 224, 24)      672       \n",
            "                                                                 \n",
            " max_pooling2d (MaxPooling2  (None, 112, 112, 24)      0         \n",
            " D)                                                              \n",
            "                                                                 \n",
            " conv2d_1 (Conv2D)           (None, 112, 112, 40)      8680      \n",
            "                                                                 \n",
            " max_pooling2d_1 (MaxPoolin  (None, 56, 56, 40)        0         \n",
            " g2D)                                                            \n",
            "                                                                 \n",
            " conv2d_2 (Conv2D)           (None, 56, 56, 56)        20216     \n",
            "                                                                 \n",
            " batch_normalization (Batch  (None, 56, 56, 56)        224       \n",
            " Normalization)                                                  \n",
            "                                                                 \n",
            " max_pooling2d_2 (MaxPoolin  (None, 28, 28, 56)        0         \n",
            " g2D)                                                            \n",
            "                                                                 \n",
            " conv2d_3 (Conv2D)           (None, 28, 28, 80)        40400     \n",
            "                                                                 \n",
            " batch_normalization_1 (Bat  (None, 28, 28, 80)        320       \n",
            " chNormalization)                                                \n",
            "                                                                 \n",
            " max_pooling2d_3 (MaxPoolin  (None, 14, 14, 80)        0         \n",
            " g2D)                                                            \n",
            "                                                                 \n",
            " conv2d_4 (Conv2D)           (None, 14, 14, 96)        69216     \n",
            "                                                                 \n",
            " batch_normalization_2 (Bat  (None, 14, 14, 96)        384       \n",
            " chNormalization)                                                \n",
            "                                                                 \n",
            " depthwise_conv2d (Depthwis  (None, 14, 14, 96)        960       \n",
            " eConv2D)                                                        \n",
            "                                                                 \n",
            " max_pooling2d_4 (MaxPoolin  (None, 7, 7, 96)          0         \n",
            " g2D)                                                            \n",
            "                                                                 \n",
            " conv2d_5 (Conv2D)           (None, 7, 7, 128)         110720    \n",
            "                                                                 \n",
            " batch_normalization_3 (Bat  (None, 7, 7, 128)         512       \n",
            " chNormalization)                                                \n",
            "                                                                 \n",
            " max_pooling2d_5 (MaxPoolin  (None, 3, 3, 128)         0         \n",
            " g2D)                                                            \n",
            "                                                                 \n",
            " depthwise_conv2d_1 (Depthw  (None, 3, 3, 128)         1280      \n",
            " iseConv2D)                                                      \n",
            "                                                                 \n",
            " global_average_pooling2d (  (None, 128)               0         \n",
            " GlobalAveragePooling2D)                                         \n",
            "                                                                 \n",
            " dense (Dense)               (None, 128)               16512     \n",
            "                                                                 \n",
            " dense_1 (Dense)             (None, 3)                 387       \n",
            "                                                                 \n",
            "=================================================================\n",
            "Total params: 270483 (1.03 MB)\n",
            "Trainable params: 269763 (1.03 MB)\n",
            "Non-trainable params: 720 (2.81 KB)\n",
            "_________________________________________________________________\n"
          ]
        }
      ]
    },
    {
      "cell_type": "code",
      "source": [
        "# Compile the model\n",
        "custom_optimizer = Adam(learning_rate= )\n",
        "model.compile(optimizer=custom_optimizer,\n",
        "              loss='categorical_crossentropy',\n",
        "              metrics=['accuracy'])\n",
        "\n",
        "# Define early stopping callback\n",
        "early_stopping = EarlyStopping(patience=9, restore_best_weights=True)\n",
        "\n",
        "# Define ReduceLROnPlateau callback\n",
        "reduce_lr = ReduceLROnPlateau(\n",
        "    monitor='val_loss',   # Metric to monitor\n",
        "    factor=0.2,           # Factor by which the learning rate will be reduced (new_lr = lr * factor)\n",
        "    patience=3,           # Number of epochs with no improvement after which learning rate will be reduced\n",
        "    min_lr=0.00001         # Lower bound on the learning rate\n",
        ")"
      ],
      "metadata": {
        "id": "9TwdaNTgszKm"
      },
      "execution_count": null,
      "outputs": []
    },
    {
      "cell_type": "code",
      "source": [
        "import numpy as np\n",
        "from sklearn.metrics import precision_score, recall_score\n",
        "\n",
        "history = model.fit(X_train, train_labels, epochs=30, batch_size=16, validation_data=(X_val, val_labels),callbacks=[early_stopping, reduce_lr])"
      ],
      "metadata": {
        "id": "Kn4_kK455pMI",
        "colab": {
          "base_uri": "https://localhost:8080/"
        },
        "outputId": "6d7ff6fe-89f0-439f-8a54-6bd09a796444"
      },
      "execution_count": null,
      "outputs": [
        {
          "output_type": "stream",
          "name": "stdout",
          "text": [
            "Epoch 1/30\n",
            "48/48 [==============================] - 6s 29ms/step - loss: 0.5141 - accuracy: 0.8294 - val_loss: 0.5488 - val_accuracy: 0.8125 - lr: 0.0010\n",
            "Epoch 2/30\n",
            "48/48 [==============================] - 1s 21ms/step - loss: 0.5118 - accuracy: 0.8177 - val_loss: 0.5490 - val_accuracy: 0.8073 - lr: 0.0010\n",
            "Epoch 3/30\n",
            "48/48 [==============================] - 1s 21ms/step - loss: 0.4815 - accuracy: 0.8190 - val_loss: 0.5471 - val_accuracy: 0.8125 - lr: 0.0010\n",
            "Epoch 4/30\n",
            "48/48 [==============================] - 1s 22ms/step - loss: 0.4978 - accuracy: 0.8203 - val_loss: 0.5458 - val_accuracy: 0.8125 - lr: 0.0010\n",
            "Epoch 5/30\n",
            "48/48 [==============================] - 1s 20ms/step - loss: 0.4841 - accuracy: 0.8216 - val_loss: 0.5606 - val_accuracy: 0.8021 - lr: 0.0010\n",
            "Epoch 6/30\n",
            "48/48 [==============================] - 1s 23ms/step - loss: 0.4753 - accuracy: 0.8268 - val_loss: 0.5529 - val_accuracy: 0.7969 - lr: 0.0010\n",
            "Epoch 7/30\n",
            "48/48 [==============================] - 1s 23ms/step - loss: 0.4547 - accuracy: 0.8320 - val_loss: 0.5457 - val_accuracy: 0.8021 - lr: 0.0010\n",
            "Epoch 8/30\n",
            "48/48 [==============================] - 1s 24ms/step - loss: 0.4344 - accuracy: 0.8346 - val_loss: 0.5496 - val_accuracy: 0.8125 - lr: 2.0000e-04\n",
            "Epoch 9/30\n",
            "48/48 [==============================] - 1s 22ms/step - loss: 0.4258 - accuracy: 0.8333 - val_loss: 0.5404 - val_accuracy: 0.7969 - lr: 2.0000e-04\n",
            "Epoch 10/30\n",
            "48/48 [==============================] - 1s 22ms/step - loss: 0.4222 - accuracy: 0.8411 - val_loss: 0.5307 - val_accuracy: 0.7969 - lr: 2.0000e-04\n",
            "Epoch 11/30\n",
            "48/48 [==============================] - 1s 20ms/step - loss: 0.4152 - accuracy: 0.8411 - val_loss: 0.5372 - val_accuracy: 0.8177 - lr: 2.0000e-04\n",
            "Epoch 12/30\n",
            "48/48 [==============================] - 1s 20ms/step - loss: 0.3992 - accuracy: 0.8451 - val_loss: 0.5425 - val_accuracy: 0.8021 - lr: 2.0000e-04\n",
            "Epoch 13/30\n",
            "48/48 [==============================] - 1s 22ms/step - loss: 0.3851 - accuracy: 0.8477 - val_loss: 0.5466 - val_accuracy: 0.8125 - lr: 2.0000e-04\n",
            "Epoch 14/30\n",
            "48/48 [==============================] - 1s 20ms/step - loss: 0.3905 - accuracy: 0.8438 - val_loss: 0.5451 - val_accuracy: 0.7969 - lr: 4.0000e-05\n",
            "Epoch 15/30\n",
            "48/48 [==============================] - 1s 20ms/step - loss: 0.3922 - accuracy: 0.8503 - val_loss: 0.5452 - val_accuracy: 0.8021 - lr: 4.0000e-05\n",
            "Epoch 16/30\n",
            "48/48 [==============================] - 1s 20ms/step - loss: 0.3976 - accuracy: 0.8424 - val_loss: 0.5436 - val_accuracy: 0.8021 - lr: 4.0000e-05\n",
            "Epoch 17/30\n",
            "48/48 [==============================] - 1s 20ms/step - loss: 0.3822 - accuracy: 0.8464 - val_loss: 0.5447 - val_accuracy: 0.8021 - lr: 1.0000e-05\n",
            "Epoch 18/30\n",
            "48/48 [==============================] - 1s 22ms/step - loss: 0.3795 - accuracy: 0.8490 - val_loss: 0.5455 - val_accuracy: 0.8021 - lr: 1.0000e-05\n",
            "Epoch 19/30\n",
            "48/48 [==============================] - 1s 23ms/step - loss: 0.3823 - accuracy: 0.8516 - val_loss: 0.5453 - val_accuracy: 0.8021 - lr: 1.0000e-05\n"
          ]
        }
      ]
    },
    {
      "cell_type": "code",
      "source": [
        "# Evaluate the model on testing set\n",
        "test_loss, test_acc = model.evaluate(X_test, test_labels_one_hot)\n",
        "print('Testing accuracy:', test_acc)\n"
      ],
      "metadata": {
        "id": "wUjBbz1f4Zv_",
        "colab": {
          "base_uri": "https://localhost:8080/"
        },
        "outputId": "80eb3129-f3b5-445b-b4c3-b5eaf83ffcdd"
      },
      "execution_count": null,
      "outputs": [
        {
          "output_type": "stream",
          "name": "stdout",
          "text": [
            "8/8 [==============================] - 0s 13ms/step - loss: 0.5362 - accuracy: 0.8292\n",
            "Testing accuracy: 0.8291666507720947\n"
          ]
        }
      ]
    },
    {
      "cell_type": "code",
      "source": [
        "# Calculate precision and recall for validation data after each epoch\n",
        "history.history['val_precision'] = []\n",
        "history.history['val_recall'] = []\n",
        "\n",
        "for epoch in range(30):\n",
        "    val_predictions = model.predict(X_val)\n",
        "    val_predictions = np.argmax(val_predictions, axis=1)\n",
        "    val_precision = precision_score(np.argmax(val_labels, axis=1), val_predictions, average='macro')\n",
        "    val_recall = recall_score(np.argmax(val_labels, axis=1), val_predictions, average='macro')\n",
        "    history.history['val_precision'].append(val_precision)\n",
        "    history.history['val_recall'].append(val_recall)"
      ],
      "metadata": {
        "id": "merVfi4Z7RJR",
        "colab": {
          "base_uri": "https://localhost:8080/"
        },
        "outputId": "9588065e-2675-4577-c57b-34b16a45c09b"
      },
      "execution_count": null,
      "outputs": [
        {
          "output_type": "stream",
          "name": "stdout",
          "text": [
            "6/6 [==============================] - 1s 15ms/step\n",
            "5/6 [========================>.....] - ETA: 0s"
          ]
        },
        {
          "output_type": "stream",
          "name": "stderr",
          "text": [
            "/usr/local/lib/python3.10/dist-packages/sklearn/metrics/_classification.py:1344: UndefinedMetricWarning: Precision is ill-defined and being set to 0.0 in labels with no predicted samples. Use `zero_division` parameter to control this behavior.\n",
            "  _warn_prf(average, modifier, msg_start, len(result))\n"
          ]
        },
        {
          "output_type": "stream",
          "name": "stdout",
          "text": [
            "6/6 [==============================] - 0s 14ms/step\n",
            "1/6 [====>.........................] - ETA: 0s"
          ]
        },
        {
          "output_type": "stream",
          "name": "stderr",
          "text": [
            "/usr/local/lib/python3.10/dist-packages/sklearn/metrics/_classification.py:1344: UndefinedMetricWarning: Precision is ill-defined and being set to 0.0 in labels with no predicted samples. Use `zero_division` parameter to control this behavior.\n",
            "  _warn_prf(average, modifier, msg_start, len(result))\n"
          ]
        },
        {
          "output_type": "stream",
          "name": "stdout",
          "text": [
            "6/6 [==============================] - 0s 16ms/step\n",
            "1/6 [====>.........................] - ETA: 0s"
          ]
        },
        {
          "output_type": "stream",
          "name": "stderr",
          "text": [
            "/usr/local/lib/python3.10/dist-packages/sklearn/metrics/_classification.py:1344: UndefinedMetricWarning: Precision is ill-defined and being set to 0.0 in labels with no predicted samples. Use `zero_division` parameter to control this behavior.\n",
            "  _warn_prf(average, modifier, msg_start, len(result))\n"
          ]
        },
        {
          "output_type": "stream",
          "name": "stdout",
          "text": [
            "6/6 [==============================] - 0s 15ms/step\n",
            "5/6 [========================>.....] - ETA: 0s"
          ]
        },
        {
          "output_type": "stream",
          "name": "stderr",
          "text": [
            "/usr/local/lib/python3.10/dist-packages/sklearn/metrics/_classification.py:1344: UndefinedMetricWarning: Precision is ill-defined and being set to 0.0 in labels with no predicted samples. Use `zero_division` parameter to control this behavior.\n",
            "  _warn_prf(average, modifier, msg_start, len(result))\n"
          ]
        },
        {
          "output_type": "stream",
          "name": "stdout",
          "text": [
            "6/6 [==============================] - 0s 15ms/step\n",
            "1/6 [====>.........................] - ETA: 0s"
          ]
        },
        {
          "output_type": "stream",
          "name": "stderr",
          "text": [
            "/usr/local/lib/python3.10/dist-packages/sklearn/metrics/_classification.py:1344: UndefinedMetricWarning: Precision is ill-defined and being set to 0.0 in labels with no predicted samples. Use `zero_division` parameter to control this behavior.\n",
            "  _warn_prf(average, modifier, msg_start, len(result))\n"
          ]
        },
        {
          "output_type": "stream",
          "name": "stdout",
          "text": [
            "6/6 [==============================] - 0s 15ms/step\n",
            "1/6 [====>.........................] - ETA: 0s"
          ]
        },
        {
          "output_type": "stream",
          "name": "stderr",
          "text": [
            "/usr/local/lib/python3.10/dist-packages/sklearn/metrics/_classification.py:1344: UndefinedMetricWarning: Precision is ill-defined and being set to 0.0 in labels with no predicted samples. Use `zero_division` parameter to control this behavior.\n",
            "  _warn_prf(average, modifier, msg_start, len(result))\n"
          ]
        },
        {
          "output_type": "stream",
          "name": "stdout",
          "text": [
            "6/6 [==============================] - 0s 15ms/step\n",
            "5/6 [========================>.....] - ETA: 0s"
          ]
        },
        {
          "output_type": "stream",
          "name": "stderr",
          "text": [
            "/usr/local/lib/python3.10/dist-packages/sklearn/metrics/_classification.py:1344: UndefinedMetricWarning: Precision is ill-defined and being set to 0.0 in labels with no predicted samples. Use `zero_division` parameter to control this behavior.\n",
            "  _warn_prf(average, modifier, msg_start, len(result))\n"
          ]
        },
        {
          "output_type": "stream",
          "name": "stdout",
          "text": [
            "6/6 [==============================] - 0s 15ms/step\n",
            "5/6 [========================>.....] - ETA: 0s"
          ]
        },
        {
          "output_type": "stream",
          "name": "stderr",
          "text": [
            "/usr/local/lib/python3.10/dist-packages/sklearn/metrics/_classification.py:1344: UndefinedMetricWarning: Precision is ill-defined and being set to 0.0 in labels with no predicted samples. Use `zero_division` parameter to control this behavior.\n",
            "  _warn_prf(average, modifier, msg_start, len(result))\n"
          ]
        },
        {
          "output_type": "stream",
          "name": "stdout",
          "text": [
            "6/6 [==============================] - 0s 16ms/step\n",
            "1/6 [====>.........................] - ETA: 0s"
          ]
        },
        {
          "output_type": "stream",
          "name": "stderr",
          "text": [
            "/usr/local/lib/python3.10/dist-packages/sklearn/metrics/_classification.py:1344: UndefinedMetricWarning: Precision is ill-defined and being set to 0.0 in labels with no predicted samples. Use `zero_division` parameter to control this behavior.\n",
            "  _warn_prf(average, modifier, msg_start, len(result))\n"
          ]
        },
        {
          "output_type": "stream",
          "name": "stdout",
          "text": [
            "6/6 [==============================] - 0s 16ms/step\n",
            "1/6 [====>.........................] - ETA: 0s"
          ]
        },
        {
          "output_type": "stream",
          "name": "stderr",
          "text": [
            "/usr/local/lib/python3.10/dist-packages/sklearn/metrics/_classification.py:1344: UndefinedMetricWarning: Precision is ill-defined and being set to 0.0 in labels with no predicted samples. Use `zero_division` parameter to control this behavior.\n",
            "  _warn_prf(average, modifier, msg_start, len(result))\n"
          ]
        },
        {
          "output_type": "stream",
          "name": "stdout",
          "text": [
            "6/6 [==============================] - 0s 18ms/step\n",
            "1/6 [====>.........................] - ETA: 0s"
          ]
        },
        {
          "output_type": "stream",
          "name": "stderr",
          "text": [
            "/usr/local/lib/python3.10/dist-packages/sklearn/metrics/_classification.py:1344: UndefinedMetricWarning: Precision is ill-defined and being set to 0.0 in labels with no predicted samples. Use `zero_division` parameter to control this behavior.\n",
            "  _warn_prf(average, modifier, msg_start, len(result))\n"
          ]
        },
        {
          "output_type": "stream",
          "name": "stdout",
          "text": [
            "6/6 [==============================] - 0s 17ms/step\n",
            "4/6 [===================>..........] - ETA: 0s"
          ]
        },
        {
          "output_type": "stream",
          "name": "stderr",
          "text": [
            "/usr/local/lib/python3.10/dist-packages/sklearn/metrics/_classification.py:1344: UndefinedMetricWarning: Precision is ill-defined and being set to 0.0 in labels with no predicted samples. Use `zero_division` parameter to control this behavior.\n",
            "  _warn_prf(average, modifier, msg_start, len(result))\n"
          ]
        },
        {
          "output_type": "stream",
          "name": "stdout",
          "text": [
            "6/6 [==============================] - 0s 17ms/step\n",
            "6/6 [==============================] - 0s 14ms/step\n"
          ]
        },
        {
          "output_type": "stream",
          "name": "stderr",
          "text": [
            "/usr/local/lib/python3.10/dist-packages/sklearn/metrics/_classification.py:1344: UndefinedMetricWarning: Precision is ill-defined and being set to 0.0 in labels with no predicted samples. Use `zero_division` parameter to control this behavior.\n",
            "  _warn_prf(average, modifier, msg_start, len(result))\n",
            "/usr/local/lib/python3.10/dist-packages/sklearn/metrics/_classification.py:1344: UndefinedMetricWarning: Precision is ill-defined and being set to 0.0 in labels with no predicted samples. Use `zero_division` parameter to control this behavior.\n",
            "  _warn_prf(average, modifier, msg_start, len(result))\n"
          ]
        },
        {
          "output_type": "stream",
          "name": "stdout",
          "text": [
            "6/6 [==============================] - 0s 14ms/step\n",
            "6/6 [==============================] - 0s 14ms/step\n"
          ]
        },
        {
          "output_type": "stream",
          "name": "stderr",
          "text": [
            "/usr/local/lib/python3.10/dist-packages/sklearn/metrics/_classification.py:1344: UndefinedMetricWarning: Precision is ill-defined and being set to 0.0 in labels with no predicted samples. Use `zero_division` parameter to control this behavior.\n",
            "  _warn_prf(average, modifier, msg_start, len(result))\n",
            "/usr/local/lib/python3.10/dist-packages/sklearn/metrics/_classification.py:1344: UndefinedMetricWarning: Precision is ill-defined and being set to 0.0 in labels with no predicted samples. Use `zero_division` parameter to control this behavior.\n",
            "  _warn_prf(average, modifier, msg_start, len(result))\n"
          ]
        },
        {
          "output_type": "stream",
          "name": "stdout",
          "text": [
            "6/6 [==============================] - 0s 13ms/step\n",
            "6/6 [==============================] - 0s 12ms/step\n"
          ]
        },
        {
          "output_type": "stream",
          "name": "stderr",
          "text": [
            "/usr/local/lib/python3.10/dist-packages/sklearn/metrics/_classification.py:1344: UndefinedMetricWarning: Precision is ill-defined and being set to 0.0 in labels with no predicted samples. Use `zero_division` parameter to control this behavior.\n",
            "  _warn_prf(average, modifier, msg_start, len(result))\n"
          ]
        },
        {
          "output_type": "stream",
          "name": "stdout",
          "text": [
            "6/6 [==============================] - 0s 11ms/step\n"
          ]
        },
        {
          "output_type": "stream",
          "name": "stderr",
          "text": [
            "/usr/local/lib/python3.10/dist-packages/sklearn/metrics/_classification.py:1344: UndefinedMetricWarning: Precision is ill-defined and being set to 0.0 in labels with no predicted samples. Use `zero_division` parameter to control this behavior.\n",
            "  _warn_prf(average, modifier, msg_start, len(result))\n",
            "/usr/local/lib/python3.10/dist-packages/sklearn/metrics/_classification.py:1344: UndefinedMetricWarning: Precision is ill-defined and being set to 0.0 in labels with no predicted samples. Use `zero_division` parameter to control this behavior.\n",
            "  _warn_prf(average, modifier, msg_start, len(result))\n"
          ]
        },
        {
          "output_type": "stream",
          "name": "stdout",
          "text": [
            "6/6 [==============================] - 0s 11ms/step\n",
            "6/6 [==============================] - 0s 11ms/step\n"
          ]
        },
        {
          "output_type": "stream",
          "name": "stderr",
          "text": [
            "/usr/local/lib/python3.10/dist-packages/sklearn/metrics/_classification.py:1344: UndefinedMetricWarning: Precision is ill-defined and being set to 0.0 in labels with no predicted samples. Use `zero_division` parameter to control this behavior.\n",
            "  _warn_prf(average, modifier, msg_start, len(result))\n",
            "/usr/local/lib/python3.10/dist-packages/sklearn/metrics/_classification.py:1344: UndefinedMetricWarning: Precision is ill-defined and being set to 0.0 in labels with no predicted samples. Use `zero_division` parameter to control this behavior.\n",
            "  _warn_prf(average, modifier, msg_start, len(result))\n"
          ]
        },
        {
          "output_type": "stream",
          "name": "stdout",
          "text": [
            "6/6 [==============================] - 0s 11ms/step\n",
            "6/6 [==============================] - 0s 10ms/step\n"
          ]
        },
        {
          "output_type": "stream",
          "name": "stderr",
          "text": [
            "/usr/local/lib/python3.10/dist-packages/sklearn/metrics/_classification.py:1344: UndefinedMetricWarning: Precision is ill-defined and being set to 0.0 in labels with no predicted samples. Use `zero_division` parameter to control this behavior.\n",
            "  _warn_prf(average, modifier, msg_start, len(result))\n"
          ]
        },
        {
          "output_type": "stream",
          "name": "stdout",
          "text": [
            "6/6 [==============================] - 0s 11ms/step\n"
          ]
        },
        {
          "output_type": "stream",
          "name": "stderr",
          "text": [
            "/usr/local/lib/python3.10/dist-packages/sklearn/metrics/_classification.py:1344: UndefinedMetricWarning: Precision is ill-defined and being set to 0.0 in labels with no predicted samples. Use `zero_division` parameter to control this behavior.\n",
            "  _warn_prf(average, modifier, msg_start, len(result))\n"
          ]
        },
        {
          "output_type": "stream",
          "name": "stdout",
          "text": [
            "6/6 [==============================] - 0s 11ms/step\n"
          ]
        },
        {
          "output_type": "stream",
          "name": "stderr",
          "text": [
            "/usr/local/lib/python3.10/dist-packages/sklearn/metrics/_classification.py:1344: UndefinedMetricWarning: Precision is ill-defined and being set to 0.0 in labels with no predicted samples. Use `zero_division` parameter to control this behavior.\n",
            "  _warn_prf(average, modifier, msg_start, len(result))\n",
            "/usr/local/lib/python3.10/dist-packages/sklearn/metrics/_classification.py:1344: UndefinedMetricWarning: Precision is ill-defined and being set to 0.0 in labels with no predicted samples. Use `zero_division` parameter to control this behavior.\n",
            "  _warn_prf(average, modifier, msg_start, len(result))\n"
          ]
        },
        {
          "output_type": "stream",
          "name": "stdout",
          "text": [
            "6/6 [==============================] - 0s 11ms/step\n",
            "6/6 [==============================] - 0s 10ms/step\n"
          ]
        },
        {
          "output_type": "stream",
          "name": "stderr",
          "text": [
            "/usr/local/lib/python3.10/dist-packages/sklearn/metrics/_classification.py:1344: UndefinedMetricWarning: Precision is ill-defined and being set to 0.0 in labels with no predicted samples. Use `zero_division` parameter to control this behavior.\n",
            "  _warn_prf(average, modifier, msg_start, len(result))\n"
          ]
        },
        {
          "output_type": "stream",
          "name": "stdout",
          "text": [
            "6/6 [==============================] - 0s 10ms/step\n"
          ]
        },
        {
          "output_type": "stream",
          "name": "stderr",
          "text": [
            "/usr/local/lib/python3.10/dist-packages/sklearn/metrics/_classification.py:1344: UndefinedMetricWarning: Precision is ill-defined and being set to 0.0 in labels with no predicted samples. Use `zero_division` parameter to control this behavior.\n",
            "  _warn_prf(average, modifier, msg_start, len(result))\n"
          ]
        },
        {
          "output_type": "stream",
          "name": "stdout",
          "text": [
            "6/6 [==============================] - 0s 10ms/step\n"
          ]
        },
        {
          "output_type": "stream",
          "name": "stderr",
          "text": [
            "/usr/local/lib/python3.10/dist-packages/sklearn/metrics/_classification.py:1344: UndefinedMetricWarning: Precision is ill-defined and being set to 0.0 in labels with no predicted samples. Use `zero_division` parameter to control this behavior.\n",
            "  _warn_prf(average, modifier, msg_start, len(result))\n"
          ]
        },
        {
          "output_type": "stream",
          "name": "stdout",
          "text": [
            "6/6 [==============================] - 0s 10ms/step\n"
          ]
        },
        {
          "output_type": "stream",
          "name": "stderr",
          "text": [
            "/usr/local/lib/python3.10/dist-packages/sklearn/metrics/_classification.py:1344: UndefinedMetricWarning: Precision is ill-defined and being set to 0.0 in labels with no predicted samples. Use `zero_division` parameter to control this behavior.\n",
            "  _warn_prf(average, modifier, msg_start, len(result))\n",
            "/usr/local/lib/python3.10/dist-packages/sklearn/metrics/_classification.py:1344: UndefinedMetricWarning: Precision is ill-defined and being set to 0.0 in labels with no predicted samples. Use `zero_division` parameter to control this behavior.\n",
            "  _warn_prf(average, modifier, msg_start, len(result))\n"
          ]
        }
      ]
    },
    {
      "cell_type": "code",
      "source": [
        "# Calculate precision and recall on training set\n",
        "train_predictions = model.predict(X_train)\n",
        "train_predictions = np.argmax(train_predictions, axis=1)\n",
        "train_precision = precision_score(np.argmax(train_labels, axis=1), train_predictions, average='macro')\n",
        "train_recall = recall_score(np.argmax(train_labels, axis=1), train_predictions, average='macro')\n",
        "print(\"Training Precision:\", train_precision)\n",
        "print(\"Training Recall:\", train_recall)"
      ],
      "metadata": {
        "id": "NopJw_8ky-Cq",
        "colab": {
          "base_uri": "https://localhost:8080/"
        },
        "outputId": "382e0713-9aac-4c7e-c7a1-6e8812b088ed"
      },
      "execution_count": null,
      "outputs": [
        {
          "output_type": "stream",
          "name": "stdout",
          "text": [
            "24/24 [==============================] - 0s 10ms/step\n",
            "Training Precision: 0.5751986804618383\n",
            "Training Recall: 0.41420242370085997\n"
          ]
        },
        {
          "output_type": "stream",
          "name": "stderr",
          "text": [
            "/usr/local/lib/python3.10/dist-packages/sklearn/metrics/_classification.py:1344: UndefinedMetricWarning: Precision is ill-defined and being set to 0.0 in labels with no predicted samples. Use `zero_division` parameter to control this behavior.\n",
            "  _warn_prf(average, modifier, msg_start, len(result))\n"
          ]
        }
      ]
    },
    {
      "cell_type": "code",
      "source": [
        "# Calculate precision and recall on testing set\n",
        "test_predictions = model.predict(X_test)\n",
        "test_predictions = np.argmax(test_predictions, axis=1)\n",
        "test_precision = precision_score(np.argmax(test_labels_one_hot, axis=1), test_predictions, average='macro')\n",
        "test_recall = recall_score(np.argmax(test_labels_one_hot, axis=1), test_predictions, average='macro')\n",
        "print(\"Testing Precision:\", test_precision)\n",
        "print(\"Testing Recall:\", test_recall)"
      ],
      "metadata": {
        "id": "N0gJdAgQzVrt",
        "colab": {
          "base_uri": "https://localhost:8080/"
        },
        "outputId": "1dd6b685-a232-4fba-9150-2d65b90523c4"
      },
      "execution_count": null,
      "outputs": [
        {
          "output_type": "stream",
          "name": "stdout",
          "text": [
            "8/8 [==============================] - 0s 8ms/step\n",
            "Testing Precision: 0.5272988505747126\n",
            "Testing Recall: 0.39658119658119656\n"
          ]
        },
        {
          "output_type": "stream",
          "name": "stderr",
          "text": [
            "/usr/local/lib/python3.10/dist-packages/sklearn/metrics/_classification.py:1344: UndefinedMetricWarning: Precision is ill-defined and being set to 0.0 in labels with no predicted samples. Use `zero_division` parameter to control this behavior.\n",
            "  _warn_prf(average, modifier, msg_start, len(result))\n"
          ]
        }
      ]
    },
    {
      "cell_type": "code",
      "source": [
        "import matplotlib.pyplot as plt\n",
        "# Plot training and validation accuracy\n",
        "plt.figure(figsize=(10, 6))\n",
        "plt.plot(history.history['accuracy'], label='Training Accuracy', color='blue')\n",
        "plt.plot(history.history['val_accuracy'], label='Validation Accuracy', color='red')\n",
        "plt.title('Training and Validation Accuracy')\n",
        "plt.xlabel('Epoch')\n",
        "plt.ylabel('Accuracy')\n",
        "plt.legend()\n",
        "plt.show()"
      ],
      "metadata": {
        "id": "peUOdaVG5LEu",
        "colab": {
          "base_uri": "https://localhost:8080/",
          "height": 564
        },
        "outputId": "96cc8b2d-eb6b-442c-d9be-8d426d29152c"
      },
      "execution_count": null,
      "outputs": [
        {
          "output_type": "display_data",
          "data": {
            "text/plain": [
              "<Figure size 1000x600 with 1 Axes>"
            ],
            "image/png": "[encoded data removed]"
          },
          "metadata": {}
        }
      ]
    },
    {
      "cell_type": "code",
      "source": [
        "# Generate classification report\n",
        "y_pred = model.predict(X_test)\n",
        "y_pred_classes = np.argmax(y_pred, axis=1)\n",
        "class_names = ['DME 0', 'DME 1', 'DME 2']\n",
        "report = classification_report(np.argmax(test_labels_one_hot, axis=1), y_pred_classes, target_names=class_names)\n",
        "print(report)"
      ],
      "metadata": {
        "id": "B3iFjX_O47Wd",
        "colab": {
          "base_uri": "https://localhost:8080/"
        },
        "outputId": "2a641ae8-0b6e-4c69-ecff-453d7b61430b"
      },
      "execution_count": null,
      "outputs": [
        {
          "output_type": "stream",
          "name": "stdout",
          "text": [
            "8/8 [==============================] - 0s 8ms/step\n",
            "              precision    recall  f1-score   support\n",
            "\n",
            "       DME 0       0.83      0.99      0.90       195\n",
            "       DME 1       0.00      0.00      0.00        15\n",
            "       DME 2       0.75      0.20      0.32        30\n",
            "\n",
            "    accuracy                           0.83       240\n",
            "   macro avg       0.53      0.40      0.41       240\n",
            "weighted avg       0.77      0.83      0.77       240\n",
            "\n"
          ]
        },
        {
          "output_type": "stream",
          "name": "stderr",
          "text": [
            "/usr/local/lib/python3.10/dist-packages/sklearn/metrics/_classification.py:1344: UndefinedMetricWarning: Precision and F-score are ill-defined and being set to 0.0 in labels with no predicted samples. Use `zero_division` parameter to control this behavior.\n",
            "  _warn_prf(average, modifier, msg_start, len(result))\n",
            "/usr/local/lib/python3.10/dist-packages/sklearn/metrics/_classification.py:1344: UndefinedMetricWarning: Precision and F-score are ill-defined and being set to 0.0 in labels with no predicted samples. Use `zero_division` parameter to control this behavior.\n",
            "  _warn_prf(average, modifier, msg_start, len(result))\n",
            "/usr/local/lib/python3.10/dist-packages/sklearn/metrics/_classification.py:1344: UndefinedMetricWarning: Precision and F-score are ill-defined and being set to 0.0 in labels with no predicted samples. Use `zero_division` parameter to control this behavior.\n",
            "  _warn_prf(average, modifier, msg_start, len(result))\n"
          ]
        }
      ]
    },
    {
      "cell_type": "code",
      "source": [
        "from sklearn.metrics import confusion_matrix\n",
        "import seaborn as sns\n",
        "import matplotlib.pyplot as plt\n",
        "\n",
        "# Generate confusion matrix\n",
        "conf_matrix = confusion_matrix(np.argmax(test_labels_one_hot, axis=1), y_pred_classes)\n",
        "\n",
        "# Plot confusion matrix\n",
        "plt.figure(figsize=(8, 6))\n",
        "sns.heatmap(conf_matrix, annot=True, fmt='d', cmap='Greens', xticklabels=class_names, yticklabels=class_names)\n",
        "plt.xlabel('Predicted Labels')\n",
        "plt.ylabel('True Labels')\n",
        "plt.title('Confusion Matrix')\n",
        "plt.show()"
      ],
      "metadata": {
        "id": "stMdBD-Oz-eo",
        "colab": {
          "base_uri": "https://localhost:8080/",
          "height": 564
        },
        "outputId": "c8af5b87-d9eb-4714-d1c6-f984f250e950"
      },
      "execution_count": null,
      "outputs": [
        {
          "output_type": "display_data",
          "data": {
            "text/plain": [
              "<Figure size 800x600 with 2 Axes>"
            ],
            "image/png": "[encoded data removed]"
          },
          "metadata": {}
        }
      ]
    },
    {
      "cell_type": "code",
      "source": [
        "# Manually calculate precision and recall after each epoch\n",
        "history.history['precision'] = []\n",
        "history.history['recall'] = []\n",
        "\n",
        "for epoch in range(30):\n",
        "    train_predictions = model.predict(X_train)\n",
        "    train_predictions = np.argmax(train_predictions, axis=1)\n",
        "    train_precision = precision_score(np.argmax(train_labels, axis=1), train_predictions, average='macro')\n",
        "    train_recall = recall_score(np.argmax(train_labels, axis=1), train_predictions, average='macro')\n",
        "    history.history['precision'].append(train_precision)\n",
        "    history.history['recall'].append(train_recall)\n"
      ],
      "metadata": {
        "id": "ja65BW7B6_H7",
        "colab": {
          "base_uri": "https://localhost:8080/"
        },
        "outputId": "7f7f6d5d-43da-4393-d5e4-38250b4a36ba"
      },
      "execution_count": null,
      "outputs": [
        {
          "output_type": "stream",
          "name": "stdout",
          "text": [
            "24/24 [==============================] - 1s 27ms/step\n"
          ]
        },
        {
          "output_type": "stream",
          "name": "stderr",
          "text": [
            "/usr/local/lib/python3.10/dist-packages/sklearn/metrics/_classification.py:1344: UndefinedMetricWarning: Precision is ill-defined and being set to 0.0 in labels with no predicted samples. Use `zero_division` parameter to control this behavior.\n",
            "  _warn_prf(average, modifier, msg_start, len(result))\n"
          ]
        },
        {
          "output_type": "stream",
          "name": "stdout",
          "text": [
            "24/24 [==============================] - 1s 20ms/step\n"
          ]
        },
        {
          "output_type": "stream",
          "name": "stderr",
          "text": [
            "/usr/local/lib/python3.10/dist-packages/sklearn/metrics/_classification.py:1344: UndefinedMetricWarning: Precision is ill-defined and being set to 0.0 in labels with no predicted samples. Use `zero_division` parameter to control this behavior.\n",
            "  _warn_prf(average, modifier, msg_start, len(result))\n"
          ]
        },
        {
          "output_type": "stream",
          "name": "stdout",
          "text": [
            "24/24 [==============================] - 0s 14ms/step\n"
          ]
        },
        {
          "output_type": "stream",
          "name": "stderr",
          "text": [
            "/usr/local/lib/python3.10/dist-packages/sklearn/metrics/_classification.py:1344: UndefinedMetricWarning: Precision is ill-defined and being set to 0.0 in labels with no predicted samples. Use `zero_division` parameter to control this behavior.\n",
            "  _warn_prf(average, modifier, msg_start, len(result))\n"
          ]
        },
        {
          "output_type": "stream",
          "name": "stdout",
          "text": [
            "24/24 [==============================] - 0s 14ms/step\n"
          ]
        },
        {
          "output_type": "stream",
          "name": "stderr",
          "text": [
            "/usr/local/lib/python3.10/dist-packages/sklearn/metrics/_classification.py:1344: UndefinedMetricWarning: Precision is ill-defined and being set to 0.0 in labels with no predicted samples. Use `zero_division` parameter to control this behavior.\n",
            "  _warn_prf(average, modifier, msg_start, len(result))\n"
          ]
        },
        {
          "output_type": "stream",
          "name": "stdout",
          "text": [
            "24/24 [==============================] - 0s 11ms/step\n"
          ]
        },
        {
          "output_type": "stream",
          "name": "stderr",
          "text": [
            "/usr/local/lib/python3.10/dist-packages/sklearn/metrics/_classification.py:1344: UndefinedMetricWarning: Precision is ill-defined and being set to 0.0 in labels with no predicted samples. Use `zero_division` parameter to control this behavior.\n",
            "  _warn_prf(average, modifier, msg_start, len(result))\n"
          ]
        },
        {
          "output_type": "stream",
          "name": "stdout",
          "text": [
            "24/24 [==============================] - 0s 12ms/step\n"
          ]
        },
        {
          "output_type": "stream",
          "name": "stderr",
          "text": [
            "/usr/local/lib/python3.10/dist-packages/sklearn/metrics/_classification.py:1344: UndefinedMetricWarning: Precision is ill-defined and being set to 0.0 in labels with no predicted samples. Use `zero_division` parameter to control this behavior.\n",
            "  _warn_prf(average, modifier, msg_start, len(result))\n"
          ]
        },
        {
          "output_type": "stream",
          "name": "stdout",
          "text": [
            "24/24 [==============================] - 0s 10ms/step\n"
          ]
        },
        {
          "output_type": "stream",
          "name": "stderr",
          "text": [
            "/usr/local/lib/python3.10/dist-packages/sklearn/metrics/_classification.py:1344: UndefinedMetricWarning: Precision is ill-defined and being set to 0.0 in labels with no predicted samples. Use `zero_division` parameter to control this behavior.\n",
            "  _warn_prf(average, modifier, msg_start, len(result))\n"
          ]
        },
        {
          "output_type": "stream",
          "name": "stdout",
          "text": [
            "24/24 [==============================] - 0s 11ms/step\n"
          ]
        },
        {
          "output_type": "stream",
          "name": "stderr",
          "text": [
            "/usr/local/lib/python3.10/dist-packages/sklearn/metrics/_classification.py:1344: UndefinedMetricWarning: Precision is ill-defined and being set to 0.0 in labels with no predicted samples. Use `zero_division` parameter to control this behavior.\n",
            "  _warn_prf(average, modifier, msg_start, len(result))\n"
          ]
        },
        {
          "output_type": "stream",
          "name": "stdout",
          "text": [
            "24/24 [==============================] - 0s 13ms/step\n"
          ]
        },
        {
          "output_type": "stream",
          "name": "stderr",
          "text": [
            "/usr/local/lib/python3.10/dist-packages/sklearn/metrics/_classification.py:1344: UndefinedMetricWarning: Precision is ill-defined and being set to 0.0 in labels with no predicted samples. Use `zero_division` parameter to control this behavior.\n",
            "  _warn_prf(average, modifier, msg_start, len(result))\n"
          ]
        },
        {
          "output_type": "stream",
          "name": "stdout",
          "text": [
            "24/24 [==============================] - 0s 12ms/step\n"
          ]
        },
        {
          "output_type": "stream",
          "name": "stderr",
          "text": [
            "/usr/local/lib/python3.10/dist-packages/sklearn/metrics/_classification.py:1344: UndefinedMetricWarning: Precision is ill-defined and being set to 0.0 in labels with no predicted samples. Use `zero_division` parameter to control this behavior.\n",
            "  _warn_prf(average, modifier, msg_start, len(result))\n"
          ]
        },
        {
          "output_type": "stream",
          "name": "stdout",
          "text": [
            "24/24 [==============================] - 0s 11ms/step\n"
          ]
        },
        {
          "output_type": "stream",
          "name": "stderr",
          "text": [
            "/usr/local/lib/python3.10/dist-packages/sklearn/metrics/_classification.py:1344: UndefinedMetricWarning: Precision is ill-defined and being set to 0.0 in labels with no predicted samples. Use `zero_division` parameter to control this behavior.\n",
            "  _warn_prf(average, modifier, msg_start, len(result))\n"
          ]
        },
        {
          "output_type": "stream",
          "name": "stdout",
          "text": [
            "24/24 [==============================] - 0s 10ms/step\n"
          ]
        },
        {
          "output_type": "stream",
          "name": "stderr",
          "text": [
            "/usr/local/lib/python3.10/dist-packages/sklearn/metrics/_classification.py:1344: UndefinedMetricWarning: Precision is ill-defined and being set to 0.0 in labels with no predicted samples. Use `zero_division` parameter to control this behavior.\n",
            "  _warn_prf(average, modifier, msg_start, len(result))\n"
          ]
        },
        {
          "output_type": "stream",
          "name": "stdout",
          "text": [
            "24/24 [==============================] - 0s 12ms/step\n"
          ]
        },
        {
          "output_type": "stream",
          "name": "stderr",
          "text": [
            "/usr/local/lib/python3.10/dist-packages/sklearn/metrics/_classification.py:1344: UndefinedMetricWarning: Precision is ill-defined and being set to 0.0 in labels with no predicted samples. Use `zero_division` parameter to control this behavior.\n",
            "  _warn_prf(average, modifier, msg_start, len(result))\n"
          ]
        },
        {
          "output_type": "stream",
          "name": "stdout",
          "text": [
            "24/24 [==============================] - 0s 10ms/step\n",
            " 1/24 [>.............................] - ETA: 0s"
          ]
        },
        {
          "output_type": "stream",
          "name": "stderr",
          "text": [
            "/usr/local/lib/python3.10/dist-packages/sklearn/metrics/_classification.py:1344: UndefinedMetricWarning: Precision is ill-defined and being set to 0.0 in labels with no predicted samples. Use `zero_division` parameter to control this behavior.\n",
            "  _warn_prf(average, modifier, msg_start, len(result))\n"
          ]
        },
        {
          "output_type": "stream",
          "name": "stdout",
          "text": [
            "24/24 [==============================] - 0s 12ms/step\n"
          ]
        },
        {
          "output_type": "stream",
          "name": "stderr",
          "text": [
            "/usr/local/lib/python3.10/dist-packages/sklearn/metrics/_classification.py:1344: UndefinedMetricWarning: Precision is ill-defined and being set to 0.0 in labels with no predicted samples. Use `zero_division` parameter to control this behavior.\n",
            "  _warn_prf(average, modifier, msg_start, len(result))\n"
          ]
        },
        {
          "output_type": "stream",
          "name": "stdout",
          "text": [
            "24/24 [==============================] - 0s 12ms/step\n"
          ]
        },
        {
          "output_type": "stream",
          "name": "stderr",
          "text": [
            "/usr/local/lib/python3.10/dist-packages/sklearn/metrics/_classification.py:1344: UndefinedMetricWarning: Precision is ill-defined and being set to 0.0 in labels with no predicted samples. Use `zero_division` parameter to control this behavior.\n",
            "  _warn_prf(average, modifier, msg_start, len(result))\n"
          ]
        },
        {
          "output_type": "stream",
          "name": "stdout",
          "text": [
            "24/24 [==============================] - 0s 14ms/step\n"
          ]
        },
        {
          "output_type": "stream",
          "name": "stderr",
          "text": [
            "/usr/local/lib/python3.10/dist-packages/sklearn/metrics/_classification.py:1344: UndefinedMetricWarning: Precision is ill-defined and being set to 0.0 in labels with no predicted samples. Use `zero_division` parameter to control this behavior.\n",
            "  _warn_prf(average, modifier, msg_start, len(result))\n"
          ]
        },
        {
          "output_type": "stream",
          "name": "stdout",
          "text": [
            "24/24 [==============================] - 0s 15ms/step\n"
          ]
        },
        {
          "output_type": "stream",
          "name": "stderr",
          "text": [
            "/usr/local/lib/python3.10/dist-packages/sklearn/metrics/_classification.py:1344: UndefinedMetricWarning: Precision is ill-defined and being set to 0.0 in labels with no predicted samples. Use `zero_division` parameter to control this behavior.\n",
            "  _warn_prf(average, modifier, msg_start, len(result))\n"
          ]
        },
        {
          "output_type": "stream",
          "name": "stdout",
          "text": [
            "24/24 [==============================] - 0s 16ms/step\n"
          ]
        },
        {
          "output_type": "stream",
          "name": "stderr",
          "text": [
            "/usr/local/lib/python3.10/dist-packages/sklearn/metrics/_classification.py:1344: UndefinedMetricWarning: Precision is ill-defined and being set to 0.0 in labels with no predicted samples. Use `zero_division` parameter to control this behavior.\n",
            "  _warn_prf(average, modifier, msg_start, len(result))\n"
          ]
        },
        {
          "output_type": "stream",
          "name": "stdout",
          "text": [
            "24/24 [==============================] - 1s 19ms/step\n"
          ]
        },
        {
          "output_type": "stream",
          "name": "stderr",
          "text": [
            "/usr/local/lib/python3.10/dist-packages/sklearn/metrics/_classification.py:1344: UndefinedMetricWarning: Precision is ill-defined and being set to 0.0 in labels with no predicted samples. Use `zero_division` parameter to control this behavior.\n",
            "  _warn_prf(average, modifier, msg_start, len(result))\n"
          ]
        },
        {
          "output_type": "stream",
          "name": "stdout",
          "text": [
            "24/24 [==============================] - 0s 13ms/step\n"
          ]
        },
        {
          "output_type": "stream",
          "name": "stderr",
          "text": [
            "/usr/local/lib/python3.10/dist-packages/sklearn/metrics/_classification.py:1344: UndefinedMetricWarning: Precision is ill-defined and being set to 0.0 in labels with no predicted samples. Use `zero_division` parameter to control this behavior.\n",
            "  _warn_prf(average, modifier, msg_start, len(result))\n"
          ]
        },
        {
          "output_type": "stream",
          "name": "stdout",
          "text": [
            "24/24 [==============================] - 0s 14ms/step\n"
          ]
        },
        {
          "output_type": "stream",
          "name": "stderr",
          "text": [
            "/usr/local/lib/python3.10/dist-packages/sklearn/metrics/_classification.py:1344: UndefinedMetricWarning: Precision is ill-defined and being set to 0.0 in labels with no predicted samples. Use `zero_division` parameter to control this behavior.\n",
            "  _warn_prf(average, modifier, msg_start, len(result))\n"
          ]
        },
        {
          "output_type": "stream",
          "name": "stdout",
          "text": [
            "24/24 [==============================] - 0s 12ms/step\n"
          ]
        },
        {
          "output_type": "stream",
          "name": "stderr",
          "text": [
            "/usr/local/lib/python3.10/dist-packages/sklearn/metrics/_classification.py:1344: UndefinedMetricWarning: Precision is ill-defined and being set to 0.0 in labels with no predicted samples. Use `zero_division` parameter to control this behavior.\n",
            "  _warn_prf(average, modifier, msg_start, len(result))\n"
          ]
        },
        {
          "output_type": "stream",
          "name": "stdout",
          "text": [
            "24/24 [==============================] - 0s 12ms/step\n"
          ]
        },
        {
          "output_type": "stream",
          "name": "stderr",
          "text": [
            "/usr/local/lib/python3.10/dist-packages/sklearn/metrics/_classification.py:1344: UndefinedMetricWarning: Precision is ill-defined and being set to 0.0 in labels with no predicted samples. Use `zero_division` parameter to control this behavior.\n",
            "  _warn_prf(average, modifier, msg_start, len(result))\n"
          ]
        },
        {
          "output_type": "stream",
          "name": "stdout",
          "text": [
            "24/24 [==============================] - 0s 10ms/step\n"
          ]
        },
        {
          "output_type": "stream",
          "name": "stderr",
          "text": [
            "/usr/local/lib/python3.10/dist-packages/sklearn/metrics/_classification.py:1344: UndefinedMetricWarning: Precision is ill-defined and being set to 0.0 in labels with no predicted samples. Use `zero_division` parameter to control this behavior.\n",
            "  _warn_prf(average, modifier, msg_start, len(result))\n"
          ]
        },
        {
          "output_type": "stream",
          "name": "stdout",
          "text": [
            "24/24 [==============================] - 0s 11ms/step\n"
          ]
        },
        {
          "output_type": "stream",
          "name": "stderr",
          "text": [
            "/usr/local/lib/python3.10/dist-packages/sklearn/metrics/_classification.py:1344: UndefinedMetricWarning: Precision is ill-defined and being set to 0.0 in labels with no predicted samples. Use `zero_division` parameter to control this behavior.\n",
            "  _warn_prf(average, modifier, msg_start, len(result))\n"
          ]
        },
        {
          "output_type": "stream",
          "name": "stdout",
          "text": [
            "24/24 [==============================] - 0s 9ms/step\n",
            " 1/24 [>.............................] - ETA: 0s"
          ]
        },
        {
          "output_type": "stream",
          "name": "stderr",
          "text": [
            "/usr/local/lib/python3.10/dist-packages/sklearn/metrics/_classification.py:1344: UndefinedMetricWarning: Precision is ill-defined and being set to 0.0 in labels with no predicted samples. Use `zero_division` parameter to control this behavior.\n",
            "  _warn_prf(average, modifier, msg_start, len(result))\n"
          ]
        },
        {
          "output_type": "stream",
          "name": "stdout",
          "text": [
            "24/24 [==============================] - 0s 9ms/step\n",
            " 1/24 [>.............................] - ETA: 0s"
          ]
        },
        {
          "output_type": "stream",
          "name": "stderr",
          "text": [
            "/usr/local/lib/python3.10/dist-packages/sklearn/metrics/_classification.py:1344: UndefinedMetricWarning: Precision is ill-defined and being set to 0.0 in labels with no predicted samples. Use `zero_division` parameter to control this behavior.\n",
            "  _warn_prf(average, modifier, msg_start, len(result))\n"
          ]
        },
        {
          "output_type": "stream",
          "name": "stdout",
          "text": [
            "24/24 [==============================] - 0s 9ms/step\n",
            " 1/24 [>.............................] - ETA: 0s"
          ]
        },
        {
          "output_type": "stream",
          "name": "stderr",
          "text": [
            "/usr/local/lib/python3.10/dist-packages/sklearn/metrics/_classification.py:1344: UndefinedMetricWarning: Precision is ill-defined and being set to 0.0 in labels with no predicted samples. Use `zero_division` parameter to control this behavior.\n",
            "  _warn_prf(average, modifier, msg_start, len(result))\n"
          ]
        },
        {
          "output_type": "stream",
          "name": "stdout",
          "text": [
            "24/24 [==============================] - 0s 9ms/step\n"
          ]
        },
        {
          "output_type": "stream",
          "name": "stderr",
          "text": [
            "/usr/local/lib/python3.10/dist-packages/sklearn/metrics/_classification.py:1344: UndefinedMetricWarning: Precision is ill-defined and being set to 0.0 in labels with no predicted samples. Use `zero_division` parameter to control this behavior.\n",
            "  _warn_prf(average, modifier, msg_start, len(result))\n"
          ]
        }
      ]
    },
    {
      "cell_type": "code",
      "source": [
        " # Plot training precision and recall\n",
        "plt.figure(figsize=(10, 6))\n",
        "plt.plot(history.history['precision'], label='Training Precision', color='blue')\n",
        "plt.plot(history.history['recall'], label='Training Recall', color='green')\n",
        "plt.title('Training Precision and Recall')\n",
        "plt.xlabel('Epoch')\n",
        "plt.ylabel('Value')\n",
        "plt.legend()\n",
        "plt.show()"
      ],
      "metadata": {
        "id": "62TKgdW08oUw",
        "colab": {
          "base_uri": "https://localhost:8080/",
          "height": 564
        },
        "outputId": "fd648e5e-ec17-4550-ade8-a8f2c7981ab7"
      },
      "execution_count": null,
      "outputs": [
        {
          "output_type": "display_data",
          "data": {
            "text/plain": [
              "<Figure size 1000x600 with 1 Axes>"
            ],
            "image/png": "[encoded data removed]"
          },
          "metadata": {}
        }
      ]
    },
    {
      "cell_type": "markdown",
      "source": [],
      "metadata": {
        "id": "re9rquz_S6Fr"
      }
    }
  ]
}